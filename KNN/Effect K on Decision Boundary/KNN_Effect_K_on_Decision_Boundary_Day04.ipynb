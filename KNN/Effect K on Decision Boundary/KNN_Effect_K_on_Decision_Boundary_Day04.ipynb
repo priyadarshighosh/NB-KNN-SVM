{
  "nbformat": 4,
  "nbformat_minor": 0,
  "metadata": {
    "colab": {
      "private_outputs": true,
      "provenance": [],
      "collapsed_sections": [
        "buV9E0bf-37g"
      ]
    },
    "kernelspec": {
      "name": "python3",
      "display_name": "Python 3"
    },
    "language_info": {
      "name": "python"
    }
  },
  "cells": [
    {
      "cell_type": "markdown",
      "source": [
        "#  Effect of K on Decision Boundary"
      ],
      "metadata": {
        "id": "z1I_BKkd85vg"
      }
    },
    {
      "cell_type": "code",
      "source": [
        "from sklearn.neighbors import KNeighborsClassifier\n",
        "import numpy as np\n",
        "import pandas as pd\n",
        "\n",
        "import matplotlib.pyplot as plt\n",
        "from matplotlib.colors import ListedColormap"
      ],
      "metadata": {
        "id": "vLFsplAc_EFg"
      },
      "execution_count": null,
      "outputs": []
    },
    {
      "cell_type": "code",
      "source": [
        "from sklearn.neighbors import KNeighborsClassifier\n",
        "\n",
        "def keffect(data,k):\n",
        "    X=data.iloc[:,:2].values\n",
        "    y=data.iloc[:,-1].values\n",
        "\n",
        "    knn=KNeighborsClassifier(n_neighbors=k)\n",
        "    knn.fit(X,y)\n",
        "\n",
        "    a=np.arange(start=X[:,0].min()-1, stop=X[:,0].max()+1, step=0.01)\n",
        "    b=np.arange(start=X[:,1].min()-1, stop=X[:,1].max()+1, step=0.01)\n",
        "\n",
        "\n",
        "    XX,YY=np.meshgrid(a,b)\n",
        "\n",
        "    input_array=np.array([XX.ravel(),YY.ravel()]).T\n",
        "\n",
        "    labels=knn.predict(input_array)\n",
        "\n",
        "    plt.contourf(XX,YY,labels.reshape(XX.shape),alpha=0.5)\n",
        "    plt.scatter(X[:,0],X[:,1], c=y)"
      ],
      "metadata": {
        "id": "_XRfKGXMAKmi"
      },
      "execution_count": null,
      "outputs": []
    },
    {
      "cell_type": "markdown",
      "source": [
        "# Dataset 1 : Ushape"
      ],
      "metadata": {
        "id": "FdhmFLyJ-kx_"
      }
    },
    {
      "cell_type": "code",
      "source": [
        "from google.colab import files    # we are importing the file from the device\n",
        "uploaded = files.upload()"
      ],
      "metadata": {
        "id": "yQ7e8q3yDT8S"
      },
      "execution_count": null,
      "outputs": []
    },
    {
      "cell_type": "code",
      "source": [
        "df=pd.read_csv('ushape (1).csv')"
      ],
      "metadata": {
        "id": "-LwBCZllDm7z"
      },
      "execution_count": null,
      "outputs": []
    },
    {
      "cell_type": "code",
      "source": [
        "keffect(df,1)"
      ],
      "metadata": {
        "id": "vxw6gABmAOZU"
      },
      "execution_count": null,
      "outputs": []
    },
    {
      "cell_type": "code",
      "source": [
        "keffect(df,5)"
      ],
      "metadata": {
        "id": "J6WxbF00D5Te"
      },
      "execution_count": null,
      "outputs": []
    },
    {
      "cell_type": "code",
      "source": [
        "keffect(df,30)"
      ],
      "metadata": {
        "id": "J8AP7eL7EMS5"
      },
      "execution_count": null,
      "outputs": []
    },
    {
      "cell_type": "markdown",
      "source": [
        "# Dataset 2 : linearsep"
      ],
      "metadata": {
        "id": "W09dONXCEX7N"
      }
    },
    {
      "cell_type": "code",
      "source": [
        "from google.colab import files    # we are importing the file from the device\n",
        "uploaded = files.upload()"
      ],
      "metadata": {
        "id": "xmCLTyDTEX7N"
      },
      "execution_count": null,
      "outputs": []
    },
    {
      "cell_type": "code",
      "source": [
        "df=pd.read_csv('linearsep.csv')"
      ],
      "metadata": {
        "id": "9DLrK1xKEX7N"
      },
      "execution_count": null,
      "outputs": []
    },
    {
      "cell_type": "code",
      "source": [
        "keffect(df,1)"
      ],
      "metadata": {
        "id": "g3cvNbsrEX7N"
      },
      "execution_count": null,
      "outputs": []
    },
    {
      "cell_type": "code",
      "source": [
        "keffect(df,5)"
      ],
      "metadata": {
        "id": "vfsCWYLKEX7N"
      },
      "execution_count": null,
      "outputs": []
    },
    {
      "cell_type": "code",
      "source": [
        "keffect(df,30)"
      ],
      "metadata": {
        "id": "pEsRB238EX7N"
      },
      "execution_count": null,
      "outputs": []
    },
    {
      "cell_type": "markdown",
      "source": [
        "# Dataset 3 : Concentric Circle"
      ],
      "metadata": {
        "id": "9R8VntgNEvx2"
      }
    },
    {
      "cell_type": "code",
      "source": [
        "from google.colab import files    # we are importing the file from the device\n",
        "uploaded = files.upload()"
      ],
      "metadata": {
        "id": "Fss4VZlJEvx2"
      },
      "execution_count": null,
      "outputs": []
    },
    {
      "cell_type": "code",
      "source": [
        "df=pd.read_csv('concertriccir2.csv')"
      ],
      "metadata": {
        "id": "azexTq3gEvx2"
      },
      "execution_count": null,
      "outputs": []
    },
    {
      "cell_type": "code",
      "source": [
        "keffect(df,1)"
      ],
      "metadata": {
        "id": "qGTSr3QvEvx2"
      },
      "execution_count": null,
      "outputs": []
    },
    {
      "cell_type": "code",
      "source": [
        "keffect(df,5)"
      ],
      "metadata": {
        "id": "nqADsaFjEvx2"
      },
      "execution_count": null,
      "outputs": []
    },
    {
      "cell_type": "code",
      "source": [
        "keffect(df,30)"
      ],
      "metadata": {
        "id": "Qq_823e1Evx2"
      },
      "execution_count": null,
      "outputs": []
    },
    {
      "cell_type": "markdown",
      "source": [
        "# Doing in the efficient way for the Last 2 Dataset"
      ],
      "metadata": {
        "id": "5gC4OTU5FVBZ"
      }
    },
    {
      "cell_type": "code",
      "source": [
        "from google.colab import files    # we are importing the file from the device\n",
        "uploaded = files.upload()"
      ],
      "metadata": {
        "id": "LudybxhQFVBZ"
      },
      "execution_count": null,
      "outputs": []
    },
    {
      "cell_type": "code",
      "source": [
        "df1=pd.read_csv('xor.csv')"
      ],
      "metadata": {
        "id": "eHNLsVtkFVBZ"
      },
      "execution_count": null,
      "outputs": []
    },
    {
      "cell_type": "code",
      "source": [
        "df2=pd.read_csv('twoSpirals.csv')"
      ],
      "metadata": {
        "id": "mmNblotpFoAs"
      },
      "execution_count": null,
      "outputs": []
    },
    {
      "cell_type": "markdown",
      "source": [
        "# First Dataset - XOR DATASET"
      ],
      "metadata": {
        "id": "GgX8ZzG8F-Of"
      }
    },
    {
      "cell_type": "code",
      "source": [
        "keffect(df1,1)"
      ],
      "metadata": {
        "id": "XBoQEQPCFVBZ"
      },
      "execution_count": null,
      "outputs": []
    },
    {
      "cell_type": "code",
      "source": [
        "keffect(df1,5)"
      ],
      "metadata": {
        "id": "-NMJ4ht4FVBa"
      },
      "execution_count": null,
      "outputs": []
    },
    {
      "cell_type": "code",
      "source": [
        "keffect(df1,30)"
      ],
      "metadata": {
        "id": "zoViZ7GWFVBa"
      },
      "execution_count": null,
      "outputs": []
    },
    {
      "cell_type": "markdown",
      "source": [
        "# First Dataset - TWO_SPIRALS DATASET"
      ],
      "metadata": {
        "id": "Vi6QTgtNGEV0"
      }
    },
    {
      "cell_type": "code",
      "source": [
        "keffect(df2,5)"
      ],
      "metadata": {
        "id": "kxn29y0zGEV1"
      },
      "execution_count": null,
      "outputs": []
    }
  ]
}